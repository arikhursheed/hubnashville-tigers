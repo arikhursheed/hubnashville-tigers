{
 "cells": [
  {
   "cell_type": "code",
   "execution_count": 1,
   "metadata": {},
   "outputs": [
    {
     "ename": "ModuleNotFoundError",
     "evalue": "No module named 'seaborn'",
     "output_type": "error",
     "traceback": [
      "\u001b[1;31m---------------------------------------------------------------------------\u001b[0m",
      "\u001b[1;31mModuleNotFoundError\u001b[0m                       Traceback (most recent call last)",
      "\u001b[1;32m<ipython-input-1-61d4dcb0aa93>\u001b[0m in \u001b[0;36m<module>\u001b[1;34m\u001b[0m\n\u001b[0;32m      2\u001b[0m \u001b[1;32mimport\u001b[0m \u001b[0mnumpy\u001b[0m \u001b[1;32mas\u001b[0m \u001b[0mnp\u001b[0m\u001b[1;33m\u001b[0m\u001b[1;33m\u001b[0m\u001b[0m\n\u001b[0;32m      3\u001b[0m \u001b[1;32mimport\u001b[0m \u001b[0mmatplotlib\u001b[0m\u001b[1;33m.\u001b[0m\u001b[0mpyplot\u001b[0m \u001b[1;32mas\u001b[0m \u001b[0mplt\u001b[0m\u001b[1;33m\u001b[0m\u001b[1;33m\u001b[0m\u001b[0m\n\u001b[1;32m----> 4\u001b[1;33m \u001b[1;32mimport\u001b[0m \u001b[0mseaborn\u001b[0m \u001b[1;32mas\u001b[0m \u001b[0msns\u001b[0m\u001b[1;33m\u001b[0m\u001b[1;33m\u001b[0m\u001b[0m\n\u001b[0m\u001b[0;32m      5\u001b[0m \u001b[1;32mimport\u001b[0m \u001b[0mgeopandas\u001b[0m \u001b[1;32mas\u001b[0m \u001b[0mgpd\u001b[0m\u001b[1;33m\u001b[0m\u001b[1;33m\u001b[0m\u001b[0m\n\u001b[0;32m      6\u001b[0m \u001b[1;33m\u001b[0m\u001b[0m\n",
      "\u001b[1;31mModuleNotFoundError\u001b[0m: No module named 'seaborn'"
     ]
    }
   ],
   "source": [
    "import pandas as pd\n",
    "import numpy as np\n",
    "import matplotlib.pyplot as plt\n",
    "import seaborn as sns\n",
    "import geopandas as gpd\n",
    "\n",
    "from shapely.geometry import Point\n",
    "import geopandas as gpd\n",
    "import folium\n",
    "from folium.plugins import MarkerCluster\n",
    "from folium.plugins import FastMarkerCluster"
   ]
  },
  {
   "cell_type": "code",
   "execution_count": 2,
   "metadata": {},
   "outputs": [
    {
     "name": "stderr",
     "output_type": "stream",
     "text": [
      "/Users/nicolemuldowney/opt/anaconda3/envs/geo/lib/python3.7/site-packages/IPython/core/interactiveshell.py:3063: DtypeWarning: Columns (17) have mixed types.Specify dtype option on import or set low_memory=False.\n",
      "  interactivity=interactivity, compiler=compiler, result=result)\n"
     ]
    }
   ],
   "source": [
    "hub_nash=pd.read_csv('../data/hub_requests.csv')"
   ]
  },
  {
   "cell_type": "code",
   "execution_count": 3,
   "metadata": {},
   "outputs": [
    {
     "data": {
      "text/html": [
       "<div>\n",
       "<style scoped>\n",
       "    .dataframe tbody tr th:only-of-type {\n",
       "        vertical-align: middle;\n",
       "    }\n",
       "\n",
       "    .dataframe tbody tr th {\n",
       "        vertical-align: top;\n",
       "    }\n",
       "\n",
       "    .dataframe thead th {\n",
       "        text-align: right;\n",
       "    }\n",
       "</style>\n",
       "<table border=\"1\" class=\"dataframe\">\n",
       "  <thead>\n",
       "    <tr style=\"text-align: right;\">\n",
       "      <th></th>\n",
       "      <th>Request #</th>\n",
       "      <th>Status</th>\n",
       "      <th>Request Type</th>\n",
       "      <th>Subrequest Type</th>\n",
       "      <th>Additional Subrequest Type</th>\n",
       "      <th>Date / Time Opened</th>\n",
       "      <th>Date / Time Closed</th>\n",
       "      <th>Request Origin</th>\n",
       "      <th>System of Origin ID</th>\n",
       "      <th>Contact Type</th>\n",
       "      <th>...</th>\n",
       "      <th>State Issue</th>\n",
       "      <th>Parent Request</th>\n",
       "      <th>Closed When Created</th>\n",
       "      <th>Address</th>\n",
       "      <th>City</th>\n",
       "      <th>Council District</th>\n",
       "      <th>ZIP</th>\n",
       "      <th>Latitude</th>\n",
       "      <th>Longitude</th>\n",
       "      <th>Mapped Location</th>\n",
       "    </tr>\n",
       "  </thead>\n",
       "  <tbody>\n",
       "    <tr>\n",
       "      <th>0</th>\n",
       "      <td>113016</td>\n",
       "      <td>Closed</td>\n",
       "      <td>Trash, Recycling &amp; Litter</td>\n",
       "      <td>Cart Service</td>\n",
       "      <td>Trash - Request an Additional Cart</td>\n",
       "      <td>10/30/2018 01:47:00 PM</td>\n",
       "      <td>03/05/2019 09:35:00 PM</td>\n",
       "      <td>Phone</td>\n",
       "      <td>NaN</td>\n",
       "      <td>NaN</td>\n",
       "      <td>...</td>\n",
       "      <td>False</td>\n",
       "      <td>NaN</td>\n",
       "      <td>False</td>\n",
       "      <td>2009 Upland Dr</td>\n",
       "      <td>NASHVILLE</td>\n",
       "      <td>7.0</td>\n",
       "      <td>37216</td>\n",
       "      <td>36.198638</td>\n",
       "      <td>-86.706659</td>\n",
       "      <td>(36.1986378, -86.7066586)</td>\n",
       "    </tr>\n",
       "    <tr>\n",
       "      <th>1</th>\n",
       "      <td>126185</td>\n",
       "      <td>Closed</td>\n",
       "      <td>Streets, Roads &amp; Sidewalks</td>\n",
       "      <td>Blocking the Right of Way</td>\n",
       "      <td>NaN</td>\n",
       "      <td>12/28/2018 01:04:00 PM</td>\n",
       "      <td>12/28/2018 01:04:00 PM</td>\n",
       "      <td>Phone</td>\n",
       "      <td>OE-00040610_12/27/2018 15:44</td>\n",
       "      <td>NaN</td>\n",
       "      <td>...</td>\n",
       "      <td>False</td>\n",
       "      <td>NaN</td>\n",
       "      <td>True</td>\n",
       "      <td>ELM HILL PKE / DONELSON PKE</td>\n",
       "      <td>NASHVILLE</td>\n",
       "      <td>15.0</td>\n",
       "      <td>37214</td>\n",
       "      <td>36.148809</td>\n",
       "      <td>-86.666282</td>\n",
       "      <td>(36.14880891, -86.6662816)</td>\n",
       "    </tr>\n",
       "    <tr>\n",
       "      <th>2</th>\n",
       "      <td>119344</td>\n",
       "      <td>Closed</td>\n",
       "      <td>Trash, Recycling &amp; Litter</td>\n",
       "      <td>Damage to Property</td>\n",
       "      <td>Trash Service</td>\n",
       "      <td>11/27/2018 02:20:00 PM</td>\n",
       "      <td>11/29/2018 04:04:00 AM</td>\n",
       "      <td>Phone</td>\n",
       "      <td>NaN</td>\n",
       "      <td>NaN</td>\n",
       "      <td>...</td>\n",
       "      <td>False</td>\n",
       "      <td>NaN</td>\n",
       "      <td>True</td>\n",
       "      <td>597 Westchester Dr, Nashville, TN 37115, Unite...</td>\n",
       "      <td>MADISON</td>\n",
       "      <td>8.0</td>\n",
       "      <td>37115</td>\n",
       "      <td>36.263020</td>\n",
       "      <td>-86.738630</td>\n",
       "      <td>(36.26302, -86.73863)</td>\n",
       "    </tr>\n",
       "    <tr>\n",
       "      <th>3</th>\n",
       "      <td>127752</td>\n",
       "      <td>Closed</td>\n",
       "      <td>Trash, Recycling &amp; Litter</td>\n",
       "      <td>New Service/Activate Service</td>\n",
       "      <td>New Construction Residential Recycle</td>\n",
       "      <td>01/03/2019 06:57:00 PM</td>\n",
       "      <td>01/09/2019 10:09:00 AM</td>\n",
       "      <td>Phone</td>\n",
       "      <td>NaN</td>\n",
       "      <td>NaN</td>\n",
       "      <td>...</td>\n",
       "      <td>False</td>\n",
       "      <td>NaN</td>\n",
       "      <td>False</td>\n",
       "      <td>Ruffian Way</td>\n",
       "      <td>NaN</td>\n",
       "      <td>NaN</td>\n",
       "      <td>NaN</td>\n",
       "      <td>38.097609</td>\n",
       "      <td>-84.554097</td>\n",
       "      <td>(38.0976091, -84.5540971)</td>\n",
       "    </tr>\n",
       "    <tr>\n",
       "      <th>4</th>\n",
       "      <td>113477</td>\n",
       "      <td>Closed</td>\n",
       "      <td>Trash, Recycling &amp; Litter</td>\n",
       "      <td>Backdoor Trash or Recycle Waivers</td>\n",
       "      <td>Request Recycling Disability Waiver</td>\n",
       "      <td>10/31/2018 12:20:00 PM</td>\n",
       "      <td>10/31/2018 04:10:00 PM</td>\n",
       "      <td>Phone</td>\n",
       "      <td>NaN</td>\n",
       "      <td>NaN</td>\n",
       "      <td>...</td>\n",
       "      <td>False</td>\n",
       "      <td>NaN</td>\n",
       "      <td>True</td>\n",
       "      <td>2326 Smith Springs Rd, Nashville, TN 37217, Un...</td>\n",
       "      <td>NASHVILLE</td>\n",
       "      <td>29.0</td>\n",
       "      <td>37217</td>\n",
       "      <td>36.096460</td>\n",
       "      <td>-86.637440</td>\n",
       "      <td>(36.09646, -86.63744)</td>\n",
       "    </tr>\n",
       "  </tbody>\n",
       "</table>\n",
       "<p>5 rows × 21 columns</p>\n",
       "</div>"
      ],
      "text/plain": [
       "   Request #  Status                Request Type  \\\n",
       "0     113016  Closed   Trash, Recycling & Litter   \n",
       "1     126185  Closed  Streets, Roads & Sidewalks   \n",
       "2     119344  Closed   Trash, Recycling & Litter   \n",
       "3     127752  Closed   Trash, Recycling & Litter   \n",
       "4     113477  Closed   Trash, Recycling & Litter   \n",
       "\n",
       "                     Subrequest Type            Additional Subrequest Type  \\\n",
       "0                       Cart Service    Trash - Request an Additional Cart   \n",
       "1          Blocking the Right of Way                                   NaN   \n",
       "2                 Damage to Property                         Trash Service   \n",
       "3       New Service/Activate Service  New Construction Residential Recycle   \n",
       "4  Backdoor Trash or Recycle Waivers   Request Recycling Disability Waiver   \n",
       "\n",
       "       Date / Time Opened      Date / Time Closed Request Origin  \\\n",
       "0  10/30/2018 01:47:00 PM  03/05/2019 09:35:00 PM          Phone   \n",
       "1  12/28/2018 01:04:00 PM  12/28/2018 01:04:00 PM          Phone   \n",
       "2  11/27/2018 02:20:00 PM  11/29/2018 04:04:00 AM          Phone   \n",
       "3  01/03/2019 06:57:00 PM  01/09/2019 10:09:00 AM          Phone   \n",
       "4  10/31/2018 12:20:00 PM  10/31/2018 04:10:00 PM          Phone   \n",
       "\n",
       "            System of Origin ID Contact Type  ...  State Issue  \\\n",
       "0                           NaN          NaN  ...        False   \n",
       "1  OE-00040610_12/27/2018 15:44          NaN  ...        False   \n",
       "2                           NaN          NaN  ...        False   \n",
       "3                           NaN          NaN  ...        False   \n",
       "4                           NaN          NaN  ...        False   \n",
       "\n",
       "   Parent Request  Closed When Created  \\\n",
       "0             NaN                False   \n",
       "1             NaN                 True   \n",
       "2             NaN                 True   \n",
       "3             NaN                False   \n",
       "4             NaN                 True   \n",
       "\n",
       "                                             Address       City  \\\n",
       "0                                     2009 Upland Dr  NASHVILLE   \n",
       "1                        ELM HILL PKE / DONELSON PKE  NASHVILLE   \n",
       "2  597 Westchester Dr, Nashville, TN 37115, Unite...    MADISON   \n",
       "3                                        Ruffian Way        NaN   \n",
       "4  2326 Smith Springs Rd, Nashville, TN 37217, Un...  NASHVILLE   \n",
       "\n",
       "  Council District    ZIP   Latitude  Longitude             Mapped Location  \n",
       "0              7.0  37216  36.198638 -86.706659   (36.1986378, -86.7066586)  \n",
       "1             15.0  37214  36.148809 -86.666282  (36.14880891, -86.6662816)  \n",
       "2              8.0  37115  36.263020 -86.738630       (36.26302, -86.73863)  \n",
       "3              NaN    NaN  38.097609 -84.554097   (38.0976091, -84.5540971)  \n",
       "4             29.0  37217  36.096460 -86.637440       (36.09646, -86.63744)  \n",
       "\n",
       "[5 rows x 21 columns]"
      ]
     },
     "execution_count": 3,
     "metadata": {},
     "output_type": "execute_result"
    }
   ],
   "source": [
    "hub_nash.head()"
   ]
  },
  {
   "cell_type": "markdown",
   "metadata": {},
   "source": [
    "Question 2 - Online vs phone by council district, could reveal differences in access?"
   ]
  },
  {
   "cell_type": "code",
   "execution_count": 2,
   "metadata": {},
   "outputs": [
    {
     "ename": "NameError",
     "evalue": "name 'hub_nash' is not defined",
     "output_type": "error",
     "traceback": [
      "\u001b[1;31m---------------------------------------------------------------------------\u001b[0m",
      "\u001b[1;31mNameError\u001b[0m                                 Traceback (most recent call last)",
      "\u001b[1;32m<ipython-input-2-89af80e3462d>\u001b[0m in \u001b[0;36m<module>\u001b[1;34m\u001b[0m\n\u001b[1;32m----> 1\u001b[1;33m \u001b[0mhub_nash\u001b[0m\u001b[1;33m[\u001b[0m\u001b[1;34m'Request Origin'\u001b[0m\u001b[1;33m]\u001b[0m\u001b[1;33m.\u001b[0m\u001b[0munique\u001b[0m\u001b[1;33m(\u001b[0m\u001b[1;33m)\u001b[0m\u001b[1;33m\u001b[0m\u001b[1;33m\u001b[0m\u001b[0m\n\u001b[0m",
      "\u001b[1;31mNameError\u001b[0m: name 'hub_nash' is not defined"
     ]
    }
   ],
   "source": [
    "hub_nash['Request Origin'].unique()"
   ]
  },
  {
   "cell_type": "code",
   "execution_count": 6,
   "metadata": {},
   "outputs": [
    {
     "data": {
      "text/plain": [
       "Phone                     244656\n",
       "hubNashville Community     88649\n",
       "Mobile App                 13051\n",
       "Email                       1721\n",
       "Mayor's Office               372\n",
       "Council Member               129\n",
       "Council's Website             50\n",
       "Walk-In                       18\n",
       "Mayor's Website                8\n",
       "In Person at Event             6\n",
       "USPS Letter                    5\n",
       "Social Media                   5\n",
       "OEM Case                       1\n",
       "Name: Request Origin, dtype: int64"
      ]
     },
     "execution_count": 6,
     "metadata": {},
     "output_type": "execute_result"
    }
   ],
   "source": [
    "hub_nash['Request Origin'].value_counts()"
   ]
  },
  {
   "cell_type": "markdown",
   "metadata": {},
   "source": [
    "Group request origin to online(hubNashville Community, Moblie App, Email, & Social Media), phone, and other"
   ]
  },
  {
   "cell_type": "code",
   "execution_count": 44,
   "metadata": {},
   "outputs": [
    {
     "data": {
      "text/plain": [
       "(103426, 21)"
      ]
     },
     "execution_count": 44,
     "metadata": {},
     "output_type": "execute_result"
    }
   ],
   "source": [
    "online_methods = ['hubNashville Community','Mobile App','Email','Social Media']\n",
    "online_request_method = hub_nash[hub_nash['Request Origin'].isin(online_methods)]\n",
    "online_request_method.shape"
   ]
  },
  {
   "cell_type": "code",
   "execution_count": 45,
   "metadata": {},
   "outputs": [
    {
     "data": {
      "text/plain": [
       "19.0    9242\n",
       "21.0    6138\n",
       "6.0     5567\n",
       "17.0    5126\n",
       "24.0    4440\n",
       "5.0     4350\n",
       "20.0    4343\n",
       "7.0     3425\n",
       "25.0    3268\n",
       "15.0    3187\n",
       "Name: Council District, dtype: int64"
      ]
     },
     "execution_count": 45,
     "metadata": {},
     "output_type": "execute_result"
    }
   ],
   "source": [
    "online_request_method['Council District'].value_counts().head(10)"
   ]
  },
  {
   "cell_type": "code",
   "execution_count": 48,
   "metadata": {},
   "outputs": [
    {
     "data": {
      "text/plain": [
       "NASHVILLE          76768\n",
       "ANTIOCH             7759\n",
       "MADISON             4301\n",
       "HERMITAGE           2533\n",
       "OLD HICKORY         1151\n",
       "BRENTWOOD           1009\n",
       "GOODLETTSVILLE       588\n",
       "WHITES CREEK         323\n",
       "JOELTON              256\n",
       "Nashville            108\n",
       "ASHLAND CITY          86\n",
       "NOLENSVILLE           69\n",
       "NASHVILLE, TN         43\n",
       "PEGRAM                33\n",
       "LA VERGNE             28\n",
       "MOUNT JULIET          22\n",
       "LAVERGNE              21\n",
       "Antioch                9\n",
       "FRANKLIN               7\n",
       "ANTIOCH, TN            5\n",
       "Hermitage              4\n",
       "Nashville, TN          3\n",
       "Nashvillle             2\n",
       "BELLEVUE               2\n",
       "NASHVILLE,TN           2\n",
       "Madison                2\n",
       "Antioch, TN            2\n",
       "HERMITAGE, TN          2\n",
       "Goodlettsville         1\n",
       "Hermitage, TN          1\n",
       "Mt. Juliet             1\n",
       "Whites Creek           1\n",
       "Nashvile, TN           1\n",
       "Old Hickory            1\n",
       "Nashville TN           1\n",
       "nashville              1\n",
       "UNKNOWN                1\n",
       "Nashville,TN           1\n",
       "OLD HICKORY, TN        1\n",
       "Name: City, dtype: int64"
      ]
     },
     "execution_count": 48,
     "metadata": {},
     "output_type": "execute_result"
    }
   ],
   "source": [
    "online_request_method['City'].value_counts()  #should clean city data to aggregate/group and fix errors"
   ]
  },
  {
   "cell_type": "code",
   "execution_count": 34,
   "metadata": {},
   "outputs": [
    {
     "data": {
      "text/plain": [
       "(244656, 21)"
      ]
     },
     "execution_count": 34,
     "metadata": {},
     "output_type": "execute_result"
    }
   ],
   "source": [
    "#group phone request \n",
    "phone_request_method = hub_nash.loc[(hub_nash['Request Origin'] == \"Phone\")]\n",
    "phone_request_method.shape"
   ]
  },
  {
   "cell_type": "code",
   "execution_count": 41,
   "metadata": {},
   "outputs": [
    {
     "data": {
      "text/plain": [
       "21.0    9765\n",
       "19.0    9518\n",
       "6.0     8961\n",
       "5.0     8474\n",
       "17.0    8319\n",
       "Name: Council District, dtype: int64"
      ]
     },
     "execution_count": 41,
     "metadata": {},
     "output_type": "execute_result"
    }
   ],
   "source": [
    "phone_request_method['Council District'].value_counts().head()"
   ]
  },
  {
   "cell_type": "code",
   "execution_count": 33,
   "metadata": {},
   "outputs": [
    {
     "data": {
      "text/plain": [
       "37013.0    13836\n",
       "37211.0    12751\n",
       "37209.0    11103\n",
       "37207.0    10712\n",
       "37206.0     9877\n",
       "           ...  \n",
       "37152.0        2\n",
       "38011          1\n",
       "37075.0        1\n",
       "37232.0        1\n",
       "0.0            1\n",
       "Name: ZIP, Length: 78, dtype: int64"
      ]
     },
     "execution_count": 33,
     "metadata": {},
     "output_type": "execute_result"
    }
   ],
   "source": [
    "phone_request_method['ZIP'].value_counts()"
   ]
  },
  {
   "cell_type": "code",
   "execution_count": 51,
   "metadata": {},
   "outputs": [
    {
     "data": {
      "text/plain": [
       "NASHVILLE    147044\n",
       "ANTIOCH       17844\n",
       "MADISON        9705\n",
       "HERMITAGE      3039\n",
       "BRENTWOOD      2436\n",
       "Name: City, dtype: int64"
      ]
     },
     "execution_count": 51,
     "metadata": {},
     "output_type": "execute_result"
    }
   ],
   "source": [
    "phone_request_method['City'].value_counts().head()"
   ]
  },
  {
   "cell_type": "code",
   "execution_count": 38,
   "metadata": {},
   "outputs": [
    {
     "data": {
      "text/plain": [
       "(594, 21)"
      ]
     },
     "execution_count": 38,
     "metadata": {},
     "output_type": "execute_result"
    }
   ],
   "source": [
    "#all other request orgins besides phone and web\n",
    "other_methods = [\"Mayor's Office\",'Council Member',\"Council's Website\",'Walk-In', \"Mayor's Website\", 'In Person at Event','USPS Letter','Social Media', 'OEM Case']\n",
    "other_request_method = hub_nash[hub_nash['Request Origin'].isin(other_methods)]\n",
    "other_request_method.shape"
   ]
  },
  {
   "cell_type": "code",
   "execution_count": 39,
   "metadata": {},
   "outputs": [
    {
     "data": {
      "text/plain": [
       "21.0    28\n",
       "9.0     24\n",
       "5.0     22\n",
       "8.0     22\n",
       "19.0    21\n",
       "7.0     20\n",
       "24.0    20\n",
       "1.0     19\n",
       "16.0    18\n",
       "33.0    18\n",
       "2.0     13\n",
       "31.0    13\n",
       "29.0    13\n",
       "6.0     13\n",
       "25.0    11\n",
       "34.0    11\n",
       "3.0     10\n",
       "23.0     9\n",
       "20.0     9\n",
       "17.0     8\n",
       "27.0     8\n",
       "4.0      8\n",
       "28.0     8\n",
       "15.0     8\n",
       "30.0     5\n",
       "14.0     5\n",
       "18.0     5\n",
       "13.0     4\n",
       "12.0     4\n",
       "32.0     4\n",
       "22.0     4\n",
       "11.0     2\n",
       "35.0     2\n",
       "26.0     2\n",
       "10.0     1\n",
       "Name: Council District, dtype: int64"
      ]
     },
     "execution_count": 39,
     "metadata": {},
     "output_type": "execute_result"
    }
   ],
   "source": [
    "other_request_method['Council District'].value_counts()"
   ]
  },
  {
   "cell_type": "code",
   "execution_count": 42,
   "metadata": {},
   "outputs": [
    {
     "data": {
      "text/plain": [
       "37115.0    34\n",
       "37013.0    29\n",
       "37211.0    27\n",
       "37205.0    25\n",
       "37208.0    24\n",
       "37207.0    22\n",
       "37209.0    18\n",
       "37115      18\n",
       "37013      18\n",
       "37206.0    16\n",
       "Name: ZIP, dtype: int64"
      ]
     },
     "execution_count": 42,
     "metadata": {},
     "output_type": "execute_result"
    }
   ],
   "source": [
    "other_request_method['ZIP'].value_counts().head(10) \n",
    "#need to clean some zip codes for no decimals and trailing 0 to aggregate these better"
   ]
  },
  {
   "cell_type": "code",
   "execution_count": 50,
   "metadata": {},
   "outputs": [
    {
     "data": {
      "text/plain": [
       "NASHVILLE    267\n",
       "ANTIOCH       42\n",
       "MADISON       39\n",
       "Nashville     18\n",
       "Madison       17\n",
       "Name: City, dtype: int64"
      ]
     },
     "execution_count": 50,
     "metadata": {},
     "output_type": "execute_result"
    }
   ],
   "source": [
    "other_request_method['City'].value_counts().head()"
   ]
  }
 ],
 "metadata": {
  "kernelspec": {
   "display_name": "Python 3",
   "language": "python",
   "name": "python3"
  },
  "language_info": {
   "codemirror_mode": {
    "name": "ipython",
    "version": 3
   },
   "file_extension": ".py",
   "mimetype": "text/x-python",
   "name": "python",
   "nbconvert_exporter": "python",
   "pygments_lexer": "ipython3",
   "version": "3.7.6"
  }
 },
 "nbformat": 4,
 "nbformat_minor": 4
}
